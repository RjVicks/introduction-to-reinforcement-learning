{
 "cells": [
  {
   "cell_type": "markdown",
   "id": "c6fd2117",
   "metadata": {},
   "source": [
    "# Gridworld Dynamic Programming\n",
    "\n",
    "## Introdction\n",
    "\n",
    "The term dynamic programming (DP) refers to a collection of algorithms that\n",
    "can be used to compute optimal policies given a perfect model of the envi-\n",
    "ronment as a Markov decision process (MDP). Classical DP algorithms are of\n",
    "limited utility in reinforcement learning both because of their assumption of\n",
    "a perfect model and because of their great computational expense, but they\n",
    "are still important theoretically."
   ]
  },
  {
   "cell_type": "markdown",
   "id": "8a6d4936",
   "metadata": {},
   "source": [
    "# Program Outline"
   ]
  },
  {
   "cell_type": "code",
   "execution_count": 1,
   "id": "96f4f757",
   "metadata": {},
   "outputs": [],
   "source": [
    "import numpy as np"
   ]
  },
  {
   "cell_type": "code",
   "execution_count": null,
   "id": "9174da06",
   "metadata": {},
   "outputs": [],
   "source": [
    "class GridWorld:\n",
    "    \n",
    "    def __init__(self):\n",
    "        self.grid = np.array()"
   ]
  }
 ],
 "metadata": {
  "kernelspec": {
   "display_name": "Python 3 (ipykernel)",
   "language": "python",
   "name": "python3"
  },
  "language_info": {
   "codemirror_mode": {
    "name": "ipython",
    "version": 3
   },
   "file_extension": ".py",
   "mimetype": "text/x-python",
   "name": "python",
   "nbconvert_exporter": "python",
   "pygments_lexer": "ipython3",
   "version": "3.8.10"
  }
 },
 "nbformat": 4,
 "nbformat_minor": 5
}
