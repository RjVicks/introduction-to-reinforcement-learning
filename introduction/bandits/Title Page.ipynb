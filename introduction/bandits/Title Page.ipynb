{
 "cells": [
  {
   "cell_type": "markdown",
   "id": "c8f94ee9",
   "metadata": {},
   "source": [
    "# An Introduction to Reinforcement Learning for Medical Pracistioners by Robert James McVickers\n",
    "\n",
    "## Contents\n",
    "* Introduction to Reinforcement Learning\n",
    "* Application of Reinforcement Learning to Healthcare\n",
    "* Reinforcement Learning Problems:\n",
    "* k-Armed Bandit.\n",
    "* Markov Decision Processes\n",
    "* Grid World (Dynamic Programming)\n",
    "* Grid World (MonteCarlo Methods)\n",
    "* Noughts-and-crosse (Q-Learning)"
   ]
  },
  {
   "cell_type": "code",
   "execution_count": null,
   "id": "0ae83973",
   "metadata": {},
   "outputs": [],
   "source": []
  }
 ],
 "metadata": {
  "kernelspec": {
   "display_name": "Python 3 (ipykernel)",
   "language": "python",
   "name": "python3"
  },
  "language_info": {
   "codemirror_mode": {
    "name": "ipython",
    "version": 3
   },
   "file_extension": ".py",
   "mimetype": "text/x-python",
   "name": "python",
   "nbconvert_exporter": "python",
   "pygments_lexer": "ipython3",
   "version": "3.8.10"
  }
 },
 "nbformat": 4,
 "nbformat_minor": 5
}
