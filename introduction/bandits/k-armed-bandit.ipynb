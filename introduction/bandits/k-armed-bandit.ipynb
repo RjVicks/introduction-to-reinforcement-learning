{
 "cells": [
  {
   "cell_type": "markdown",
   "id": "51d596b2",
   "metadata": {},
   "source": [
    "# What is the Best Learning Rate for the K-Armed Bandit Problem.\n",
    "\n",
    "## Notebook Overivew\n",
    "\n",
    "This notebook provides an introduction to the k-armed bandit problem, a foundational problem in reinforcement learning. \n",
    "\n",
    "### Problem Description\n",
    "\n",
    "Here, the term 'bandit' might be misleading, it refers to an American term for a slot machine. Imagine a slot machine with many buttons and when one of these buttons is pressed the slot machine spins and displays a value on it's screen. You begin to experiment with the buttons and notice that some of the buttons are consistently returning higher values that others. The question is now asked if you could only press the buttons 1000 times what strategy would you implement to recieve the highest possible score, that is the sum of the values you see.\n",
    "\n",
    "This forms the basis for the 'k-armed bandait problem'.\n",
    "\n",
    "It is worth noting that the buttons do not necessarily return the same score each time, there is some manner of variation although the buttons do not return random values either, it is implicit that some buttons are better than others.\n",
    "\n",
    "### Mathematical Description\n",
    "\n",
    "\n",
    "\n",
    "## Experiement Planning\n",
    "\n",
    "### Variables\n",
    "* k := number of leavers.\n",
    "* Ri := the reward function of the ith leaver. This can be deterministic or stochastic. Determinism is a special case of stochastic. \n",
    "*  epsilon: the probability of exploration vs exploitation.\n",
    "\n",
    "### Control Variables:\n",
    "* 7 arms.\n",
    "* Normal Distributions for the reward distribution.(These can't all be the same.)\n",
    "* Number of episodes: 1000\n",
    "\n",
    "### Dependent Variable: \n",
    "* epsilon - fixed epsilon (0 < epsilon < 1); epsilon as a function of t, where t is the time step.\n",
    "\n",
    "### Independent Variable: \n",
    "* Return (sum of total rewards received)\n",
    "\n",
    "### Data Collection\n",
    "* For each experiment record the dependent variable epsilon and the return.\n",
    "\n",
    "### Analysis\n",
    "* Plot for return vs epsilon\n",
    "* Use matplotlib or seabour or other.\n",
    "\n",
    "### Report\n",
    "\n",
    "### Experiments\n",
    "\n",
    "### Fixed Epsilon\n",
    "* Vary epsilon between 0 and 1 in stages of 0.1"
   ]
  },
  {
   "cell_type": "markdown",
   "id": "ba49bc85",
   "metadata": {},
   "source": [
    "# Bandits Program.\n",
    "\n",
    "## Description.\n",
    "An agent learns the mean value of each leaver of a k-armed bandit \n",
    "\n",
    "## Bandits API\n",
    "* Needs to be versitile. "
   ]
  },
  {
   "cell_type": "code",
   "execution_count": 16,
   "id": "df1821f9",
   "metadata": {},
   "outputs": [],
   "source": [
    "import numpy as np\n",
    "\n",
    "class Bandit:\n",
    "    \n",
    "    def __init__(self, n_arms: int):\n",
    "        self.n_arms = n_arms\n",
    "        self.MU_INDEX = 0\n",
    "        self.SIGMA_INDEX = 1\n",
    "        self.q = (n_arms-1) * 0.5 * 0.5\n",
    "        self.n_normal_distributions = np.array([[-self.q+(x*0.5), 1] for x in range(n_arms)])\n",
    "        \n",
    "    def pull_lever(self, k: int):\n",
    "        return np.random.normal(self.n_normal_distributions[k][self.MU_INDEX], self.n_normal_distributions[k][self.SIGMA_INDEX])"
   ]
  },
  {
   "cell_type": "code",
   "execution_count": 17,
   "id": "51de4612",
   "metadata": {},
   "outputs": [],
   "source": [
    "class Agent:\n",
    "    \n",
    "    def __init__(self, bandit: Bandit):\n",
    "        self.bandit = bandit\n",
    "        self.estimates = np.ones(bandit.n_arms) * 0.5\n",
    "        self.R = 0\n",
    "        \n",
    "    def experiment(self, n_episodes, epsilon):\n",
    "        self.estimates = np.zeros(bandit.n_arms)\n",
    "        for k in range(1,n_episodes):\n",
    "            if np.random.random() < epsilon: action = np.random.randint(self.bandit.n_arms)\n",
    "            else: action = np.argmax(self.estimates)\n",
    "            reward = self.bandit.pull_lever(action)\n",
    "            self.R += reward\n",
    "            self.estimates[action] = self.estimates[action] + np.multiply(np.divide(1, k), reward - self.estimates[action])   \n",
    "        return self.R"
   ]
  },
  {
   "cell_type": "markdown",
   "id": "e22fc429",
   "metadata": {},
   "source": [
    "## Example Experiment "
   ]
  },
  {
   "cell_type": "code",
   "execution_count": 18,
   "id": "dfe2cb48",
   "metadata": {},
   "outputs": [
    {
     "data": {
      "text/plain": [
       "array([[-1.5,  1. ],\n",
       "       [-1. ,  1. ],\n",
       "       [-0.5,  1. ],\n",
       "       [ 0. ,  1. ],\n",
       "       [ 0.5,  1. ],\n",
       "       [ 1. ,  1. ],\n",
       "       [ 1.5,  1. ]])"
      ]
     },
     "execution_count": 18,
     "metadata": {},
     "output_type": "execute_result"
    }
   ],
   "source": [
    "N_ARMS = 7\n",
    "bandit = Bandit(N_ARMS)\n",
    "bandit.n_normal_distributions"
   ]
  },
  {
   "cell_type": "code",
   "execution_count": 39,
   "id": "378265fe",
   "metadata": {},
   "outputs": [
    {
     "data": {
      "text/plain": [
       "45416.78442052703"
      ]
     },
     "execution_count": 39,
     "metadata": {},
     "output_type": "execute_result"
    }
   ],
   "source": [
    "N_EPISODES = 100000\n",
    "EPSILON = 0.1\n",
    "agent = Agent(bandit)\n",
    "agent.experiment(N_EPISODES, EPSILON)\n",
    "agent.R"
   ]
  },
  {
   "cell_type": "markdown",
   "id": "5094f191",
   "metadata": {},
   "source": [
    "## Experiment over Eps in (0,1)"
   ]
  },
  {
   "cell_type": "code",
   "execution_count": 1,
   "id": "8b807e26",
   "metadata": {},
   "outputs": [
    {
     "ename": "NameError",
     "evalue": "name 'agent' is not defined",
     "output_type": "error",
     "traceback": [
      "\u001b[0;31m---------------------------------------------------------------------------\u001b[0m",
      "\u001b[0;31mNameError\u001b[0m                                 Traceback (most recent call last)",
      "\u001b[0;32m/tmp/ipykernel_5815/2733214077.py\u001b[0m in \u001b[0;36m<module>\u001b[0;34m\u001b[0m\n\u001b[1;32m      2\u001b[0m \u001b[0mEPSILONs\u001b[0m \u001b[0;34m=\u001b[0m\u001b[0;34m[\u001b[0m\u001b[0;36m0.1\u001b[0m\u001b[0;34m,\u001b[0m \u001b[0;36m0.2\u001b[0m\u001b[0;34m,\u001b[0m \u001b[0;36m0.3\u001b[0m\u001b[0;34m,\u001b[0m \u001b[0;36m0.4\u001b[0m\u001b[0;34m,\u001b[0m \u001b[0;36m0.5\u001b[0m\u001b[0;34m,\u001b[0m \u001b[0;36m0.6\u001b[0m\u001b[0;34m,\u001b[0m \u001b[0;36m0.7\u001b[0m\u001b[0;34m,\u001b[0m \u001b[0;36m0.8\u001b[0m\u001b[0;34m,\u001b[0m \u001b[0;36m0.9\u001b[0m\u001b[0;34m]\u001b[0m\u001b[0;34m\u001b[0m\u001b[0;34m\u001b[0m\u001b[0m\n\u001b[1;32m      3\u001b[0m \u001b[0;32mfor\u001b[0m \u001b[0mEPSILON\u001b[0m \u001b[0;32min\u001b[0m \u001b[0mEPSILONs\u001b[0m\u001b[0;34m:\u001b[0m\u001b[0;34m\u001b[0m\u001b[0;34m\u001b[0m\u001b[0m\n\u001b[0;32m----> 4\u001b[0;31m     \u001b[0magent\u001b[0m\u001b[0;34m.\u001b[0m\u001b[0mR\u001b[0m \u001b[0;34m=\u001b[0m \u001b[0;36m0\u001b[0m\u001b[0;34m\u001b[0m\u001b[0;34m\u001b[0m\u001b[0m\n\u001b[0m\u001b[1;32m      5\u001b[0m     \u001b[0mresults\u001b[0m\u001b[0;34m.\u001b[0m\u001b[0mappend\u001b[0m\u001b[0;34m(\u001b[0m\u001b[0;34m[\u001b[0m\u001b[0mEPSILON\u001b[0m\u001b[0;34m,\u001b[0m \u001b[0magent\u001b[0m\u001b[0;34m.\u001b[0m\u001b[0mexperiment\u001b[0m\u001b[0;34m(\u001b[0m\u001b[0mN_EPISODES\u001b[0m\u001b[0;34m,\u001b[0m \u001b[0mEPSILON\u001b[0m\u001b[0;34m)\u001b[0m\u001b[0;34m]\u001b[0m\u001b[0;34m)\u001b[0m\u001b[0;34m\u001b[0m\u001b[0;34m\u001b[0m\u001b[0m\n\u001b[1;32m      6\u001b[0m \u001b[0mresults\u001b[0m \u001b[0;34m=\u001b[0m \u001b[0mnp\u001b[0m\u001b[0;34m.\u001b[0m\u001b[0marray\u001b[0m\u001b[0;34m(\u001b[0m\u001b[0mresults\u001b[0m\u001b[0;34m)\u001b[0m\u001b[0;34m\u001b[0m\u001b[0;34m\u001b[0m\u001b[0m\n",
      "\u001b[0;31mNameError\u001b[0m: name 'agent' is not defined"
     ]
    }
   ],
   "source": [
    "results = []\n",
    "EPSILONs =[0.1, 0.2, 0.3, 0.4, 0.5, 0.6, 0.7, 0.8, 0.9]\n",
    "for EPSILON in EPSILONs:\n",
    "    agent.R = 0\n",
    "    results.append([EPSILON, agent.experiment(N_EPISODES, EPSILON)])\n",
    "results = np.array(results)\n",
    "np.set_printoptions(suppress=True)\n",
    "results"
   ]
  },
  {
   "cell_type": "code",
   "execution_count": 41,
   "id": "57c02531",
   "metadata": {},
   "outputs": [
    {
     "data": {
      "text/plain": [
       "array([-1.5, -1. , -0.5,  0. ,  0.5,  1. ,  1.5])"
      ]
     },
     "execution_count": 41,
     "metadata": {},
     "output_type": "execute_result"
    }
   ],
   "source": [
    "bandit.n_normal_distributions[:,0]"
   ]
  },
  {
   "cell_type": "markdown",
   "id": "4d7743e9",
   "metadata": {},
   "source": [
    "## Visualisation"
   ]
  },
  {
   "cell_type": "code",
   "execution_count": 42,
   "id": "1e6bf1b9",
   "metadata": {},
   "outputs": [],
   "source": [
    "import matplotlib as mpl\n",
    "import matplotlib.pyplot as plt"
   ]
  },
  {
   "cell_type": "code",
   "execution_count": 43,
   "id": "39c5e4d1",
   "metadata": {},
   "outputs": [
    {
     "data": {
      "text/plain": [
       "[<matplotlib.lines.Line2D at 0x7f16cdc39850>]"
      ]
     },
     "execution_count": 43,
     "metadata": {},
     "output_type": "execute_result"
    },
    {
     "data": {
      "image/png": "[encoded data removed]",
      "text/plain": [
       "<Figure size 864x576 with 1 Axes>"
      ]
     },
     "metadata": {
      "needs_background": "light"
     },
     "output_type": "display_data"
    }
   ],
   "source": [
    "fig, ax = plt.subplots(figsize=(12,8))\n",
    "ax.plot(EPSILONs, results[:,1], 'ro')"
   ]
  },
  {
   "cell_type": "markdown",
   "id": "02985908",
   "metadata": {},
   "source": [
    "## Analysis\n",
    "\n",
    "The results show that for a bandit with 7 arms a high exploration rate is optimal. \n",
    "\n",
    "## Obeservation\n",
    "\n",
    "A question can now be asked if 0.8 is the optimal soloution or if the epsilon value can be tuned further as a value between 0.7 and 0.9."
   ]
  },
  {
   "cell_type": "markdown",
   "id": "7b555408",
   "metadata": {},
   "source": [
    "## Experiment 2\n",
    "\n",
    "Vary epsilon in 0.02 increments between 0.7 and 0.9 exclusively. That is epsilon values of:\n",
    "    0.72, 0.74, 0.76, 0.78, 0.8, 0.82, 0.84, 0.86, 0.88."
   ]
  },
  {
   "cell_type": "code",
   "execution_count": 152,
   "id": "1f3b7550",
   "metadata": {},
   "outputs": [
    {
     "data": {
      "text/plain": [
       "[[0.72,\n",
       "  array([-1.00461453, -0.66866713, -0.27870669,  0.04897741,  0.32446451,\n",
       "          0.99792508,  0.93614283])],\n",
       " [0.74,\n",
       "  array([-1.03185488, -0.8933561 , -0.11867592,  0.0512613 ,  0.36508928,\n",
       "          0.84043688,  1.48544323])],\n",
       " [0.76,\n",
       "  array([-1.23054273, -0.70295905, -0.3897244 ,  0.03646013,  0.58572287,\n",
       "          1.00740496,  1.20093968])],\n",
       " [0.78,\n",
       "  array([-1.0888543 , -0.75966708, -0.33963221,  0.0062157 ,  0.36584656,\n",
       "          0.82951012,  1.48576178])],\n",
       " [0.8,\n",
       "  array([-1.16275052, -0.7566776 , -0.37407953, -0.22472879,  0.40813589,\n",
       "          0.78785152,  1.47167662])],\n",
       " [0.82,\n",
       "  array([-1.45812863, -0.78188359, -0.4098373 , -0.03367179,  0.42815015,\n",
       "          0.7852978 ,  1.47340474])],\n",
       " [0.84,\n",
       "  array([-1.2964824 , -0.77444456, -0.32166178, -0.0464197 ,  0.48137799,\n",
       "          0.95002931,  1.29517768])],\n",
       " [0.86,\n",
       "  array([-1.19030105, -0.96665863, -0.50689261, -0.24378577,  0.3452928 ,\n",
       "          0.91481173,  1.44678079])],\n",
       " [0.88,\n",
       "  array([-1.24811081, -0.8229267 , -0.44525409,  0.18859657,  0.39707624,\n",
       "          0.88619262,  1.2267893 ])]]"
      ]
     },
     "execution_count": 152,
     "metadata": {},
     "output_type": "execute_result"
    }
   ],
   "source": [
    "results = []\n",
    "EPSILONs =[0.72, 0.74, 0.76, 0.78, 0.8, 0.82, 0.84, 0.86, 0.88]\n",
    "for EPSILON in EPSILONs:\n",
    "    results.append([EPSILON, agent.experiment(N_EPISODES, EPSILON)])\n",
    "results"
   ]
  },
  {
   "cell_type": "code",
   "execution_count": 153,
   "id": "9a0aa5dd",
   "metadata": {},
   "outputs": [
    {
     "data": {
      "text/plain": [
       "[0.2626366624387887,\n",
       " 0.18805785592256538,\n",
       " 0.15791744514843045,\n",
       " 0.16242052232931373,\n",
       " 0.18050815804832143,\n",
       " 0.09956708320676959,\n",
       " 0.13246371178859953,\n",
       " 0.12669048114295997,\n",
       " 0.16603525761572507]"
      ]
     },
     "execution_count": 153,
     "metadata": {},
     "output_type": "execute_result"
    }
   ],
   "source": [
    "ESTIMATE_INDEX = 1\n",
    "score = []\n",
    "for epsilon_index in range(len(EPSILONs)):\n",
    "    score.append(np.average(abs(results[epsilon_index][ESTIMATE_INDEX] - bandit.n_normal_distributions[:,bandit.MU_INDEX])))\n",
    "\n",
    "score"
   ]
  },
  {
   "cell_type": "markdown",
   "id": "4758751e",
   "metadata": {},
   "source": [
    "## Visualisation for Experiment 2"
   ]
  },
  {
   "cell_type": "code",
   "execution_count": 154,
   "id": "c4a1de0e",
   "metadata": {},
   "outputs": [
    {
     "data": {
      "text/plain": [
       "[<matplotlib.lines.Line2D at 0x7fae87c39100>]"
      ]
     },
     "execution_count": 154,
     "metadata": {},
     "output_type": "execute_result"
    },
    {
     "data": {
      "image/png": "[encoded data removed]",
      "text/plain": [
       "<Figure size 864x576 with 1 Axes>"
      ]
     },
     "metadata": {
      "needs_background": "light"
     },
     "output_type": "display_data"
    }
   ],
   "source": [
    "fig, ax = plt.subplots(figsize=(12,8))\n",
    "ax.plot(EPSILONs, score, 'ro')"
   ]
  },
  {
   "cell_type": "code",
   "execution_count": null,
   "id": "61b588b5",
   "metadata": {},
   "outputs": [],
   "source": []
  }
 ],
 "metadata": {
  "kernelspec": {
   "display_name": "Python 3 (ipykernel)",
   "language": "python",
   "name": "python3"
  },
  "language_info": {
   "codemirror_mode": {
    "name": "ipython",
    "version": 3
   },
   "file_extension": ".py",
   "mimetype": "text/x-python",
   "name": "python",
   "nbconvert_exporter": "python",
   "pygments_lexer": "ipython3",
   "version": "3.8.10"
  }
 },
 "nbformat": 4,
 "nbformat_minor": 5
}
