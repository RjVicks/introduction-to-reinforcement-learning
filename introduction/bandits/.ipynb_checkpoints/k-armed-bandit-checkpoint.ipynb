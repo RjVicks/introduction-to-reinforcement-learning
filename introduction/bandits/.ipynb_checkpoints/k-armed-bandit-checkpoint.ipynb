{
 "cells": [
  {
   "cell_type": "markdown",
   "id": "51d596b2",
   "metadata": {},
   "source": [
    "# What is the Best Learning Rate for the K-Armded Bandit Problem.\n",
    "\n",
    "# Experiement Planning\n",
    "\n",
    "## Variables\n",
    "* k := number of leavers.\n",
    "* Ri := the reward function of the ith leaver. This can be deterministic or stochastic. Determinism is a special case of stochastic. \n",
    "*  epsilon: the probability of exploration vs exploitation.\n",
    "\n",
    "### Control Variables:\n",
    "* 7 arms.\n",
    "* Normal Distributions for the reward distribution.(These can't all be the same.)\n",
    "* Number of episodes: 1000\n",
    "\n",
    "### Dependent Variable: \n",
    "* epsilon - fixed epsilon (0 < epsilon < 1); epsilon as a function of t, where t is the time step.\n",
    "\n",
    "### Independent Variable: \n",
    "* Return (sum of total rewards received)\n",
    "\n",
    "## Data Collection\n",
    "* For each experiment record the dependent variable epsilon and the return.\n",
    "\n",
    "## Analysis\n",
    "* Plot for return vs epsilon\n",
    "* Use matplotlib or seabour or other.\n",
    "\n",
    "## Report\n",
    "\n",
    "## Experiments\n",
    "\n",
    "### Fixed Epsilon\n",
    "* Vary epsilon between 0 and 1 in stages of 0.1"
   ]
  },
  {
   "cell_type": "markdown",
   "id": "ba49bc85",
   "metadata": {},
   "source": [
    "# Bandits Program.\n",
    "\n",
    "## Description.\n",
    "An agent learns the mean value of each leaver of a k-armed bandit \n",
    "\n",
    "## Bandits API\n",
    "* Needs to be versitile. "
   ]
  },
  {
   "cell_type": "code",
   "execution_count": 129,
   "id": "df1821f9",
   "metadata": {},
   "outputs": [],
   "source": [
    "import numpy as np\n",
    "\n",
    "class Bandit:\n",
    "    \n",
    "    def __init__(self, n_arms: int):\n",
    "        self.n_arms = n_arms\n",
    "        self.MU_INDEX = 0\n",
    "        self.SIGMA_INDEX = 1\n",
    "        self.q = (n_arms-1) * 0.5 * 0.5\n",
    "        self.n_normal_distributions = np.array([[-self.q+(x*0.5), 1] for x in range(n_arms)])\n",
    "        \n",
    "    def pull_lever(self, k: int):\n",
    "        return np.random.normal(self.n_normal_distributions[k][self.MU_INDEX], self.n_normal_distributions[k][self.SIGMA_INDEX])"
   ]
  },
  {
   "cell_type": "code",
   "execution_count": 139,
   "id": "51de4612",
   "metadata": {},
   "outputs": [],
   "source": [
    "class Agent:\n",
    "    \n",
    "    def __init__(self, bandit: Bandit):\n",
    "        self.bandit = bandit\n",
    "        self.estimates = np.ones(bandit.n_arms) * 0.5\n",
    "        \n",
    "    def experiment(self, n_episodes, epsilon):\n",
    "        self.estimates = np.zeros(bandit.n_arms)\n",
    "        for k in range(1,n_episodes):\n",
    "            if np.random.random() < epsilon: action = np.random.randint(self.bandit.n_arms)\n",
    "            else: action = np.argmax(self.estimates)\n",
    "            reward = self.bandit.pull_lever(action)\n",
    "            self.estimates[action] = self.estimates[action] + np.multiply(np.divide(1, k), reward - self.estimates[action])   \n",
    "        return self.estimates"
   ]
  },
  {
   "cell_type": "markdown",
   "id": "5394d28d",
   "metadata": {},
   "source": [
    "## Example Experiment "
   ]
  },
  {
   "cell_type": "code",
   "execution_count": 140,
   "id": "f58e653b",
   "metadata": {},
   "outputs": [
    {
     "data": {
      "text/plain": [
       "array([[-1.5,  1. ],\n",
       "       [-1. ,  1. ],\n",
       "       [-0.5,  1. ],\n",
       "       [ 0. ,  1. ],\n",
       "       [ 0.5,  1. ],\n",
       "       [ 1. ,  1. ],\n",
       "       [ 1.5,  1. ]])"
      ]
     },
     "execution_count": 140,
     "metadata": {},
     "output_type": "execute_result"
    }
   ],
   "source": [
    "N_ARMS = 7\n",
    "bandit = Bandit(N_ARMS)\n",
    "bandit.n_normal_distributions"
   ]
  },
  {
   "cell_type": "code",
   "execution_count": 141,
   "id": "27db9714",
   "metadata": {},
   "outputs": [
    {
     "data": {
      "text/plain": [
       "array([-0.39762834, -0.37187441, -0.46904103, -0.16408054,  0.4986116 ,\n",
       "        0.00690574, -0.05879877])"
      ]
     },
     "execution_count": 141,
     "metadata": {},
     "output_type": "execute_result"
    }
   ],
   "source": [
    "N_EPISODES = 1000000\n",
    "EPSILON = 0.1\n",
    "agent = Agent(bandit)\n",
    "agent.experiment(N_EPISODES, EPSILON)\n",
    "agent.estimates"
   ]
  },
  {
   "cell_type": "markdown",
   "id": "2cf265b9",
   "metadata": {},
   "source": [
    "## Experiment over Eps in (0,1)"
   ]
  },
  {
   "cell_type": "code",
   "execution_count": 142,
   "id": "934bd6b6",
   "metadata": {},
   "outputs": [
    {
     "data": {
      "text/plain": [
       "[[0.1,\n",
       "  array([-0.46762882, -0.4431126 , -0.11297045, -0.03195253,  0.01739995,\n",
       "          0.12043526,  1.49933023])],\n",
       " [0.2,\n",
       "  array([-2.31129522, -0.96252965, -0.37451298,  0.09860693,  0.11656144,\n",
       "          1.00045285,  0.37207844])],\n",
       " [0.3,\n",
       "  array([-2.33287236, -0.71321531, -0.35175187,  0.02132232,  0.49882443,\n",
       "          0.33059361,  0.60338551])],\n",
       " [0.4,\n",
       "  array([-1.9143683 , -0.59668376, -0.33484357,  0.05947896,  0.21173514,\n",
       "          1.00089674,  0.870874  ])],\n",
       " [0.5,\n",
       "  array([-1.02275476, -0.58541797, -0.31596467,  0.10632725,  0.4799996 ,\n",
       "          0.50470183,  1.49438365])],\n",
       " [0.6,\n",
       "  array([-1.32672677, -1.57105168, -0.43794553,  0.00929114,  0.38502969,\n",
       "          0.99325219,  1.12978276])],\n",
       " [0.7,\n",
       "  array([-1.71758626, -0.91355067, -0.46171044, -0.02897616,  0.19890513,\n",
       "          0.99498154,  1.1077133 ])],\n",
       " [0.8,\n",
       "  array([-1.34577036, -0.81830235, -0.42311129, -0.02746299,  0.51774835,\n",
       "          0.81396162,  1.43140918])],\n",
       " [0.9,\n",
       "  array([-1.22362566, -0.87966557, -0.43130412,  0.13156165,  0.36920648,\n",
       "          0.77353123,  1.45145223])]]"
      ]
     },
     "execution_count": 142,
     "metadata": {},
     "output_type": "execute_result"
    }
   ],
   "source": [
    "results = []\n",
    "EPSILONs =[0.1, 0.2, 0.3, 0.4, 0.5, 0.6, 0.7, 0.8, 0.9]\n",
    "for EPSILON in EPSILONs:\n",
    "    results.append([EPSILON, agent.experiment(N_EPISODES, EPSILON)])\n",
    "results"
   ]
  },
  {
   "cell_type": "code",
   "execution_count": 143,
   "id": "77504553",
   "metadata": {},
   "outputs": [
    {
     "data": {
      "text/plain": [
       "array([-1.5, -1. , -0.5,  0. ,  0.5,  1. ,  1.5])"
      ]
     },
     "execution_count": 143,
     "metadata": {},
     "output_type": "execute_result"
    }
   ],
   "source": [
    "bandit.n_normal_distributions[:,0]"
   ]
  },
  {
   "cell_type": "code",
   "execution_count": 144,
   "id": "e9ad0fb8",
   "metadata": {},
   "outputs": [
    {
     "data": {
      "text/plain": [
       "[0.481582172357243,\n",
       " 0.36923892589574525,\n",
       " 0.40806056567316246,\n",
       " 0.2800867903681203,\n",
       " 0.2433006821132069,\n",
       " 0.18680084025415633,\n",
       " 0.152814477300429,\n",
       " 0.10180807651376259,\n",
       " 0.14325376584850424]"
      ]
     },
     "execution_count": 144,
     "metadata": {},
     "output_type": "execute_result"
    }
   ],
   "source": [
    "ESTIMATE_INDEX = 1\n",
    "score = []\n",
    "for epsilon_index in range(len(EPSILONs)):\n",
    "    score.append(np.average(abs(results[epsilon_index][ESTIMATE_INDEX] - bandit.n_normal_distributions[:,bandit.MU_INDEX])))\n",
    "\n",
    "score"
   ]
  },
  {
   "cell_type": "markdown",
   "id": "63a31f6a",
   "metadata": {},
   "source": [
    "## Visualisation"
   ]
  },
  {
   "cell_type": "code",
   "execution_count": 146,
   "id": "788526f5",
   "metadata": {},
   "outputs": [],
   "source": [
    "import matplotlib as mpl\n",
    "import matplotlib.pyplot as plt"
   ]
  },
  {
   "cell_type": "code",
   "execution_count": 151,
   "id": "e458d5b8",
   "metadata": {},
   "outputs": [
    {
     "data": {
      "text/plain": [
       "[<matplotlib.lines.Line2D at 0x7fae87cb96a0>]"
      ]
     },
     "execution_count": 151,
     "metadata": {},
     "output_type": "execute_result"
    },
    {
     "data": {
      "image/png": "[encoded data removed]",
      "text/plain": [
       "<Figure size 864x576 with 1 Axes>"
      ]
     },
     "metadata": {
      "needs_background": "light"
     },
     "output_type": "display_data"
    }
   ],
   "source": [
    "fig, ax = plt.subplots(figsize=(12,8))\n",
    "ax.plot(EPSILONs, score, 'ro')"
   ]
  },
  {
   "cell_type": "markdown",
   "id": "1dc2671b",
   "metadata": {},
   "source": [
    "## Analysis\n",
    "\n",
    "The results show that for a bandit with 7 arms a high exploration rate is optimal. \n",
    "\n",
    "## Obeservation\n",
    "\n",
    "A question can now be asked if 0.8 is the optimal soloution or if the epsilon value can be tuned further as a value between 0.7 and 0.9."
   ]
  },
  {
   "cell_type": "markdown",
   "id": "f02e71c3",
   "metadata": {},
   "source": [
    "## Experiment 2\n",
    "\n",
    "Vary epsilon in 0.02 increments between 0.7 and 0.9 exclusively. That is epsilon values of:\n",
    "    0.72, 0.74, 0.76, 0.78, 0.8, 0.82, 0.84, 0.86, 0.88."
   ]
  },
  {
   "cell_type": "code",
   "execution_count": null,
   "id": "9fcbd848",
   "metadata": {},
   "outputs": [],
   "source": [
    "results = []\n",
    "EPSILONs =[0.72, 0.74, 0.76, 0.78, 0.8, 0.82, 0.84, 0.86, 0.88]\n",
    "for EPSILON in EPSILONs:\n",
    "    results.append([EPSILON, agent.experiment(N_EPISODES, EPSILON)])\n",
    "results"
   ]
  }
 ],
 "metadata": {
  "kernelspec": {
   "display_name": "Python 3 (ipykernel)",
   "language": "python",
   "name": "python3"
  },
  "language_info": {
   "codemirror_mode": {
    "name": "ipython",
    "version": 3
   },
   "file_extension": ".py",
   "mimetype": "text/x-python",
   "name": "python",
   "nbconvert_exporter": "python",
   "pygments_lexer": "ipython3",
   "version": "3.8.10"
  }
 },
 "nbformat": 4,
 "nbformat_minor": 5
}
